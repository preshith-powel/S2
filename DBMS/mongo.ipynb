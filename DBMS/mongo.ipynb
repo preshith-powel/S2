{
 "cells": [
  {
   "cell_type": "code",
   "execution_count": 17,
   "id": "667f10f3",
   "metadata": {},
   "outputs": [],
   "source": [
    "from pymongo import mongo_client\n",
    "conn=mongo_client.MongoClient(\"mongodb://localhost:27017\")\n",
    "local=conn[\"local\"]\n",
    "students=local[\"students\"]\n"
   ]
  },
  {
   "cell_type": "code",
   "execution_count": 18,
   "id": "bd80ddf2",
   "metadata": {},
   "outputs": [
    {
     "data": {
      "text/plain": [
       "InsertManyResult([ObjectId('68402a2748750274592d4a4f'), ObjectId('68402a2748750274592d4a50'), ObjectId('68402a2748750274592d4a51'), ObjectId('68402a2748750274592d4a52'), ObjectId('68402a2748750274592d4a53'), ObjectId('68402a2748750274592d4a54'), ObjectId('68402a2748750274592d4a55'), ObjectId('68402a2748750274592d4a56'), ObjectId('68402a2748750274592d4a57'), ObjectId('68402a2748750274592d4a58'), ObjectId('68402a2748750274592d4a59'), ObjectId('68402a2748750274592d4a5a'), ObjectId('68402a2748750274592d4a5b'), ObjectId('68402a2748750274592d4a5c'), ObjectId('68402a2748750274592d4a5d'), ObjectId('68402a2748750274592d4a5e'), ObjectId('68402a2748750274592d4a5f'), ObjectId('68402a2748750274592d4a60'), ObjectId('68402a2748750274592d4a61'), ObjectId('68402a2748750274592d4a62')], acknowledged=True)"
      ]
     },
     "execution_count": 18,
     "metadata": {},
     "output_type": "execute_result"
    }
   ],
   "source": [
    "data=[\n",
    "    {\"fname\":\"lionel\",\"lname\":\"messi\",\"position\":\"fwd\",\"age\":35,\"goals\":22,\"nation\":\"argentina\",\"club\":\"barca\"},\n",
    "    {\"fname\":\"cristiano\",\"lname\":\"ronaldo\",\"position\":\"fwd\",\"age\":40,\"goals\":35,\"nation\":\"portugal\",\"club\":\"real\"},\n",
    "    {\"fname\":\"neymar\",\"lname\":\"jr\",\"position\":\"fwd\",\"age\":30,\"goals\":30,\"nation\":\"brazil\",\"club\":\"barca\"},\n",
    "    {\"fname\":\"mohammad\",\"lname\":\"salah\",\"position\":\"fwd\",\"age\":32,\"goals\":40,\"nation\":\"egypt\",\"club\":\"liverpool\"},\n",
    "    {\"fname\":\"sergio\",\"lname\":\"ramos\",\"position\":\"def\",\"age\":34,\"goals\":10,\"nation\":\"spain\",\"club\":\"real\"},\n",
    "    {\"fname\":\"sergio\",\"lname\":\"busquets\",\"position\":\"mid\",\"age\":36,\"goals\":5,\"nation\":\"spain\",\"club\":\"barca\"},\n",
    "    {\"fname\":\"luka\",\"lname\":\"modric\",\"position\":\"mid\",\"age\":45,\"goals\":10,\"nation\":\"croatia\",\"club\":\"real\"},\n",
    "    {\"fname\":\"carles\",\"lname\":\"puyol\",\"position\":\"def\",\"age\":50,\"goals\":2,\"nation\":\"spain\",\"club\":\"barca\"},\n",
    "    {\"fname\":\"david\",\"lname\":\"beckham\",\"position\":\"mid\",\"age\":56,\"goals\":20,\"nation\":\"england\",\"club\":\"united\"},\n",
    "    {\"fname\":\"david\",\"lname\":\"de gea\",\"position\":\"gk\",\"age\":31,\"goals\":1,\"nation\":\"spain\",\"club\":\"united\"},\n",
    "    {\"fname\":\"hugo\",\"lname\":\"lloris\",\"position\":\"gk\",\"age\":42,\"goals\":0,\"nation\":\"france\",\"club\":\"spurs\"},\n",
    "    {\"fname\":\"erling\",\"lname\":\"haaland\",\"position\":\"fwd\",\"age\":25,\"goals\":77,\"nation\":\"norway\",\"club\":\"city\"},\n",
    "    {\"fname\":\"kyle\",\"lname\":\"walker\",\"position\":\"def\",\"age\":28,\"goals\":2,\"nation\":\"england\",\"club\":\"city\"},\n",
    "    {\"fname\":\"john\",\"lname\":\"stones\",\"position\":\"def\",\"age\":27,\"goals\":5,\"nation\":\"england\",\"club\":\"city\"},\n",
    "    {\"fname\":\"gigi\",\"lname\":\"buffon\",\"position\":\"gk\",\"age\":60,\"goals\":6,\"nation\":\"italy\",\"club\":\"juventus\"},\n",
    "    {\"fname\":\"marcus\",\"lname\":\"rashford\",\"position\":\"fwd\",\"age\":23,\"goals\":45,\"nation\":\"england\",\"club\":\"united\"},\n",
    "    {\"fname\":\"robert\",\"lname\":\"lewandowski\",\"position\":\"fwd\",\"age\":30,\"goals\":33,\"nation\":\"poland\",\"club\":\"barca\"},\n",
    "    {\"fname\":\"khvicha\",\"lname\":\"kvaratskhelia\",\"position\":\"fwd\",\"age\":18,\"goals\":70,\"nation\":\"georgia\",\"club\":\"psg\"},\n",
    "    {\"fname\":\"preshith\",\"lname\":\"powel\",\"position\":\"gk\",\"age\":22,\"goals\":100,\"nation\":\"india\",\"club\":\"united\"},\n",
    "    {\"fname\":\"sunil\",\"lname\":\"chettri\",\"position\":\"fwd\",\"age\":35,\"goals\":22,\"nation\":\"india\",\"club\":\"bengaluru\"},\n",
    "]\n",
    "students.insert_many(data)"
   ]
  },
  {
   "cell_type": "code",
   "execution_count": 62,
   "id": "8d8879f6",
   "metadata": {},
   "outputs": [
    {
     "name": "stdout",
     "output_type": "stream",
     "text": [
      "{'fname': 'sergio', 'lname': 'busquets'}\n",
      "{'fname': 'carles', 'lname': 'puyol'}\n"
     ]
    }
   ],
   "source": [
    "# spanish barca players\n",
    "pipeline=[\n",
    "    {\"$match\":{\"nation\":\"spain\",\"club\":\"barca\"}},\n",
    "    {\"$project\":{\"_id\":0,\"fname\":1,\"lname\":1}}\n",
    "]\n",
    "\n",
    "res=students.aggregate(pipeline)\n",
    "for row in res:\n",
    "    print(row)"
   ]
  },
  {
   "cell_type": "code",
   "execution_count": 28,
   "id": "eb27cc32",
   "metadata": {},
   "outputs": [
    {
     "name": "stdout",
     "output_type": "stream",
     "text": [
      "{'fname': 'carles', 'lname': 'puyol', 'goals': 2}\n",
      "{'fname': 'cristiano', 'lname': 'ronaldo', 'goals': 35}\n",
      "{'fname': 'david', 'lname': 'beckham', 'goals': 20}\n"
     ]
    }
   ],
   "source": [
    "# top 3 goalscorers\n",
    "pipeline=[\n",
    "    {\"$project\":{\"_id\":0,\"fname\":1,\"lname\":1,\"goals\":1}},\n",
    "    {\"$sort\":{\"fname\":1}},\n",
    "    {\"$limit\":3}\n",
    "]\n",
    "res=students.aggregate(pipeline)\n",
    "for row in res:\n",
    "    print(row)\n"
   ]
  },
  {
   "cell_type": "code",
   "execution_count": 35,
   "id": "08cdb158",
   "metadata": {},
   "outputs": [
    {
     "name": "stdout",
     "output_type": "stream",
     "text": [
      "{'fname': 'david', 'lname': 'beckham', 'age': 56, 'club': 'united'}\n",
      "{'fname': 'david', 'lname': 'de gea', 'age': 31, 'club': 'united'}\n"
     ]
    }
   ],
   "source": [
    "# age 30+ players of united \n",
    "\n",
    "pipeline=[\n",
    "    {\"$match\":{\"club\":\"united\",\"age\":{\"$gte\":30}}},\n",
    "    {\"$project\":{\"_id\":0,\"fname\":1,\"lname\":1,\"club\":1,\"age\":1}}\n",
    "]\n",
    "\n",
    "res=students.aggregate(pipeline)\n",
    "for row in res:\n",
    "    print(row)"
   ]
  },
  {
   "cell_type": "code",
   "execution_count": 86,
   "id": "0f2d3031",
   "metadata": {},
   "outputs": [
    {
     "name": "stdout",
     "output_type": "stream",
     "text": [
      "{'fname': 'cristiano', 'lname': 'ronaldo', 'position': 'fwd', 'age': 40, 'goals': 100, 'nation': 'portugal', 'club': 'real'}\n",
      "{'fname': 'david', 'lname': 'de gea', 'position': 'gk', 'age': 31, 'goals': 100, 'nation': 'spain', 'club': 'united'}\n"
     ]
    }
   ],
   "source": [
    "# players aged btwn 30-40 and names starts with \"c\" or \"d\"\n",
    "\n",
    "pipeline=[\n",
    "    {\"$match\":\n",
    "     {\"age\":{\"$gte\":30},\"age\":{\"$lte\":40},\n",
    "      \"$or\":[\n",
    "          {\"fname\":{\"$regex\":\"^c\"}},\n",
    "          {\"fname\":{\"$regex\":\"^d\"}}\n",
    "          ]\n",
    "          }},\n",
    "          {\"$project\":{\"_id\":0}}\n",
    "]\n",
    "\n",
    "res=students.aggregate(pipeline)\n",
    "for row in res:\n",
    "    print(row)"
   ]
  },
  {
   "cell_type": "code",
   "execution_count": 49,
   "id": "13fa1cf5",
   "metadata": {},
   "outputs": [
    {
     "name": "stdout",
     "output_type": "stream",
     "text": [
      "{'fname': 'mohammad', 'lname': 'salah', 'position': 'fwd', 'age': 32, 'goals': 40, 'nation': 'egypt', 'club': 'liverpool'}\n",
      "{'fname': 'hugo', 'lname': 'lloris', 'position': 'gk', 'age': 42, 'goals': 0, 'nation': 'france', 'club': 'spurs'}\n",
      "{'fname': 'gigi', 'lname': 'buffon', 'position': 'gk', 'age': 60, 'goals': 6, 'nation': 'italy', 'club': 'juventus'}\n",
      "{'fname': 'khvicha', 'lname': 'kvaratskhelia', 'position': 'fwd', 'age': 18, 'goals': 70, 'nation': 'georgia', 'club': 'psg'}\n",
      "{'fname': 'sunil', 'lname': 'chettri', 'position': 'fwd', 'age': 35, 'goals': 22, 'nation': 'india', 'club': 'bengaluru'}\n"
     ]
    }
   ],
   "source": [
    "# players not in barca,real,united,city\n",
    "\n",
    "pipeline =[\n",
    "    {\"$match\":{\"club\":{\"$nin\":[\"barca\",\"real\",\"united\",\"city\"]}}},\n",
    "    {\"$project\":{\"_id\":0}}\n",
    "]\n",
    "\n",
    "res=students.aggregate(pipeline)\n",
    "for row in res:\n",
    "    print(row)"
   ]
  },
  {
   "cell_type": "code",
   "execution_count": null,
   "id": "431ff257",
   "metadata": {},
   "outputs": [
    {
     "name": "stdout",
     "output_type": "stream",
     "text": [
      "{'_id': ObjectId('68402a2748750274592d4a5a'), 'fname': 'erling', 'lname': 'haaland', 'position': 'fwd', 'age': 25, 'goals': 77, 'nation': 'norway', 'club': 'city'}\n",
      "{'_id': ObjectId('68402a2748750274592d4a5b'), 'fname': 'kyle', 'lname': 'walker', 'position': 'def', 'age': 28, 'goals': 2, 'nation': 'england', 'club': 'city'}\n",
      "{'_id': ObjectId('68402a2748750274592d4a5c'), 'fname': 'john', 'lname': 'stones', 'position': 'def', 'age': 27, 'goals': 5, 'nation': 'england', 'club': 'city'}\n",
      "{'_id': ObjectId('68402a2748750274592d4a5e'), 'fname': 'marcus', 'lname': 'rashford', 'position': 'fwd', 'age': 23, 'goals': 45, 'nation': 'england', 'club': 'united'}\n",
      "{'_id': ObjectId('68402a2748750274592d4a60'), 'fname': 'khvicha', 'lname': 'kvaratskhelia', 'position': 'fwd', 'age': 18, 'goals': 70, 'nation': 'georgia', 'club': 'psg'}\n",
      "{'_id': ObjectId('68402a2748750274592d4a61'), 'fname': 'preshith', 'lname': 'powel', 'position': 'gk', 'age': 22, 'goals': 100, 'nation': 'india', 'club': 'united'}\n"
     ]
    }
   ],
   "source": [
    "#update age 30+ player's goals to 100\n",
    "\n",
    "students.update_many({\"age\":{\"$gte\":30}},\n",
    "                     {\"$set\":{\"goals\":30}})\n",
    "\n",
    "\n",
    "res=students.find({})\n",
    "for row in res:\n",
    "    print(row)"
   ]
  },
  {
   "cell_type": "code",
   "execution_count": null,
   "id": "a7b5c592",
   "metadata": {},
   "outputs": [
    {
     "name": "stdout",
     "output_type": "stream",
     "text": [
      "{'_id': ObjectId('68402a2748750274592d4a50'), 'fname': 'cristiano', 'lname': 'ronaldo', 'position': 'fwd', 'age': 40, 'goals': 100, 'nation': 'portugal', 'club': 'real'}\n",
      "{'_id': ObjectId('68402a2748750274592d4a51'), 'fname': 'neymar', 'lname': 'jr', 'position': 'fwd', 'age': 30, 'goals': 30, 'nation': 'brazil', 'club': 'barca'}\n",
      "{'_id': ObjectId('68402a2748750274592d4a52'), 'fname': 'mohammad', 'lname': 'salah', 'position': 'fwd', 'age': 32, 'goals': 100, 'nation': 'egypt', 'club': 'liverpool'}\n",
      "{'_id': ObjectId('68402a2748750274592d4a53'), 'fname': 'sergio', 'lname': 'ramos', 'position': 'def', 'age': 34, 'goals': 100, 'nation': 'spain', 'club': 'real'}\n",
      "{'_id': ObjectId('68402a2748750274592d4a54'), 'fname': 'sergio', 'lname': 'busquets', 'position': 'mid', 'age': 36, 'goals': 100, 'nation': 'spain', 'club': 'barca'}\n",
      "{'_id': ObjectId('68402a2748750274592d4a55'), 'fname': 'luka', 'lname': 'modric', 'position': 'mid', 'age': 45, 'goals': 100, 'nation': 'croatia', 'club': 'real'}\n",
      "{'_id': ObjectId('68402a2748750274592d4a56'), 'fname': 'carles', 'lname': 'puyol', 'position': 'def', 'age': 50, 'goals': 100, 'nation': 'spain', 'club': 'barca'}\n",
      "{'_id': ObjectId('68402a2748750274592d4a57'), 'fname': 'david', 'lname': 'beckham', 'position': 'mid', 'age': 56, 'goals': 100, 'nation': 'england', 'club': 'united'}\n",
      "{'_id': ObjectId('68402a2748750274592d4a58'), 'fname': 'david', 'lname': 'de gea', 'position': 'gk', 'age': 31, 'goals': 100, 'nation': 'spain', 'club': 'united'}\n",
      "{'_id': ObjectId('68402a2748750274592d4a59'), 'fname': 'hugo', 'lname': 'lloris', 'position': 'gk', 'age': 42, 'goals': 100, 'nation': 'france', 'club': 'spurs'}\n",
      "{'_id': ObjectId('68402a2748750274592d4a5a'), 'fname': 'erling', 'lname': 'haaland', 'position': 'fwd', 'age': 25, 'goals': 77, 'nation': 'norway', 'club': 'city'}\n",
      "{'_id': ObjectId('68402a2748750274592d4a5b'), 'fname': 'kyle', 'lname': 'walker', 'position': 'def', 'age': 28, 'goals': 2, 'nation': 'england', 'club': 'city'}\n",
      "{'_id': ObjectId('68402a2748750274592d4a5c'), 'fname': 'john', 'lname': 'stones', 'position': 'def', 'age': 27, 'goals': 5, 'nation': 'england', 'club': 'city'}\n",
      "{'_id': ObjectId('68402a2748750274592d4a5d'), 'fname': 'gigi', 'lname': 'buffon', 'position': 'gk', 'age': 60, 'goals': 100, 'nation': 'italy', 'club': 'juventus'}\n",
      "{'_id': ObjectId('68402a2748750274592d4a5e'), 'fname': 'marcus', 'lname': 'rashford', 'position': 'fwd', 'age': 23, 'goals': 45, 'nation': 'england', 'club': 'united'}\n",
      "{'_id': ObjectId('68402a2748750274592d4a5f'), 'fname': 'robert', 'lname': 'lewandowski', 'position': 'fwd', 'age': 30, 'goals': 33, 'nation': 'poland', 'club': 'barca'}\n",
      "{'_id': ObjectId('68402a2748750274592d4a60'), 'fname': 'khvicha', 'lname': 'kvaratskhelia', 'position': 'fwd', 'age': 18, 'goals': 70, 'nation': 'georgia', 'club': 'psg'}\n",
      "{'_id': ObjectId('68402a2748750274592d4a61'), 'fname': 'preshith', 'lname': 'powel', 'position': 'gk', 'age': 22, 'goals': 100, 'nation': 'india', 'club': 'united'}\n",
      "{'_id': ObjectId('68402a2748750274592d4a62'), 'fname': 'sunil', 'lname': 'chettri', 'position': 'fwd', 'age': 35, 'goals': 100, 'nation': 'india', 'club': 'bengaluru'}\n"
     ]
    }
   ],
   "source": [
    "#delete player firstname is \"lionel\"\n",
    "\n",
    "students.delete_many({\"fname\":\"lionel\"})\n",
    "\n",
    "res=students.find({})\n",
    "for row in res:\n",
    "    print(row)"
   ]
  },
  {
   "cell_type": "code",
   "execution_count": 56,
   "id": "dde85554",
   "metadata": {},
   "outputs": [
    {
     "name": "stdout",
     "output_type": "stream",
     "text": [
      "{'united players': 4}\n"
     ]
    }
   ],
   "source": [
    "# number of united players\n",
    "\n",
    "pipeline =[\n",
    "    {\"$match\":{\"club\":\"united\"}},\n",
    "    {\"$project\":{\"_id\":0}},\n",
    "    {\"$count\":\"united players\"}\n",
    "]\n",
    "\n",
    "res=students.aggregate(pipeline)\n",
    "for row in res:\n",
    "    print(row)"
   ]
  },
  {
   "cell_type": "code",
   "execution_count": 59,
   "id": "4854d1f0",
   "metadata": {},
   "outputs": [
    {
     "name": "stdout",
     "output_type": "stream",
     "text": [
      "{'fname': 'cristiano', 'lname': 'ronaldo', 'age': 40, 'club': 'real'}\n",
      "{'fname': 'david', 'lname': 'de gea', 'age': 31, 'club': 'united'}\n"
     ]
    }
   ],
   "source": [
    "# players btwn 30-40 starts with c or d\n",
    "\n",
    "pipeline=[\n",
    "    {\"$match\":\n",
    "     {\"age\":{\"$gte\":30},\n",
    "      \"age\":{\"$lte\":40}\n",
    "      ,\"$or\":[{\"fname\":{\"$regex\":\"^c\"}},\n",
    "             {\"fname\":{\"$regex\":\"^d\"}}]\n",
    "     }},\n",
    "     {\"$project\":{\"_id\":0,\"fname\":1,\"lname\":1,\"age\":1,\"club\":1}}\n",
    "]\n",
    "\n",
    "res =students.aggregate(pipeline)\n",
    "for row in res:\n",
    "    print(row)\n"
   ]
  },
  {
   "cell_type": "code",
   "execution_count": 64,
   "id": "ad7df134",
   "metadata": {},
   "outputs": [
    {
     "name": "stdout",
     "output_type": "stream",
     "text": [
      "{'fname': 'david', 'lname': 'de gea'}\n"
     ]
    }
   ],
   "source": [
    "pipeline=[\n",
    "    {\"$match\":{\"nation\":\"spain\",\"club\":\"united\"}},\n",
    "    {\"$project\":{\"_id\":0,\"fname\":1,\"lname\":1}}\n",
    "]\n",
    "\n",
    "res=students.aggregate(pipeline)\n",
    "for row in res:\n",
    "    print(row)\n"
   ]
  },
  {
   "cell_type": "code",
   "execution_count": 70,
   "id": "9dc0fdf7",
   "metadata": {},
   "outputs": [
    {
     "name": "stdout",
     "output_type": "stream",
     "text": [
      "{'fname': 'carles', 'lname': 'puyol'}\n",
      "{'fname': 'cristiano', 'lname': 'ronaldo'}\n",
      "{'fname': 'david', 'lname': 'de gea'}\n",
      "{'fname': 'david', 'lname': 'beckham'}\n",
      "{'fname': 'erling', 'lname': 'haaland'}\n"
     ]
    }
   ],
   "source": [
    "pipeline=[\n",
    "    {\"$sort\":{\"fname\":1}},\n",
    "    {\"$limit\":5},\n",
    "    {\"$project\":{\"_id\":0,\"fname\":1,\"lname\":1}}\n",
    "]\n",
    "\n",
    "res=students.aggregate(pipeline)\n",
    "for row in res:\n",
    "    print(row)"
   ]
  },
  {
   "cell_type": "code",
   "execution_count": null,
   "id": "f1e941f5",
   "metadata": {},
   "outputs": [
    {
     "name": "stdout",
     "output_type": "stream",
     "text": [
      "{'_id': ObjectId('68402a2748750274592d4a51'), 'fname': 'neymar', 'lname': 'jr', 'position': 'fwd', 'age': 30, 'goals': 30, 'nation': 'brazil', 'club': 'barca'}\n",
      "{'_id': ObjectId('68402a2748750274592d4a5f'), 'fname': 'robert', 'lname': 'lewandowski', 'position': 'fwd', 'age': 30, 'goals': 33, 'nation': 'poland', 'club': 'barca'}\n",
      "{'_id': ObjectId('68402a2748750274592d4a58'), 'fname': 'david', 'lname': 'de gea', 'position': 'gk', 'age': 31, 'goals': 100, 'nation': 'spain', 'club': 'united'}\n",
      "{'_id': ObjectId('68402a2748750274592d4a52'), 'fname': 'mohammad', 'lname': 'salah', 'position': 'fwd', 'age': 32, 'goals': 100, 'nation': 'egypt', 'club': 'liverpool'}\n",
      "{'_id': ObjectId('68402a2748750274592d4a53'), 'fname': 'sergio', 'lname': 'ramos', 'position': 'def', 'age': 34, 'goals': 100, 'nation': 'spain', 'club': 'real'}\n",
      "{'_id': ObjectId('68402a2748750274592d4a62'), 'fname': 'sunil', 'lname': 'chettri', 'position': 'fwd', 'age': 35, 'goals': 100, 'nation': 'india', 'club': 'bengaluru'}\n",
      "{'_id': ObjectId('68402a2748750274592d4a54'), 'fname': 'sergio', 'lname': 'busquets', 'position': 'mid', 'age': 36, 'goals': 100, 'nation': 'spain', 'club': 'barca'}\n",
      "{'_id': ObjectId('68402a2748750274592d4a50'), 'fname': 'cristiano', 'lname': 'ronaldo', 'position': 'fwd', 'age': 40, 'goals': 100, 'nation': 'portugal', 'club': 'real'}\n"
     ]
    }
   ],
   "source": [
    "pipeline=[\n",
    "    {\"$match\":{\"age\":{\"$gte\":30,\"$lte\":40}}},\n",
    "    {\"$sort\":{\"age\":1}} \n",
    "    \n",
    "]\n",
    "\n",
    "\n",
    "\n",
    "\n",
    "\n",
    "res=students.aggregate(pipeline)\n",
    "for row in res:\n",
    "    print(row)"
   ]
  }
 ],
 "metadata": {
  "kernelspec": {
   "display_name": "Python 3",
   "language": "python",
   "name": "python3"
  },
  "language_info": {
   "codemirror_mode": {
    "name": "ipython",
    "version": 3
   },
   "file_extension": ".py",
   "mimetype": "text/x-python",
   "name": "python",
   "nbconvert_exporter": "python",
   "pygments_lexer": "ipython3",
   "version": "3.13.0"
  }
 },
 "nbformat": 4,
 "nbformat_minor": 5
}
